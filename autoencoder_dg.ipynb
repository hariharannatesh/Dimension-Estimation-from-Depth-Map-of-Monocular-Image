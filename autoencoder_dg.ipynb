{
  "nbformat": 4,
  "nbformat_minor": 0,
  "metadata": {
    "colab": {
      "name": "autoencoder_dg.ipynb",
      "provenance": [],
      "authorship_tag": "ABX9TyMBMvnZCYkKqJiKUgajhdeO",
      "include_colab_link": true
    },
    "kernelspec": {
      "name": "python3",
      "display_name": "Python 3"
    }
  },
  "cells": [
    {
      "cell_type": "markdown",
      "metadata": {
        "id": "view-in-github",
        "colab_type": "text"
      },
      "source": [
        "<a href=\"https://colab.research.google.com/github/hariharannatesh/Dimension-Estimation-from-Depth-Map-of-Monocular-Image/blob/master/autoencoder_dg.ipynb\" target=\"_parent\"><img src=\"https://colab.research.google.com/assets/colab-badge.svg\" alt=\"Open In Colab\"/></a>"
      ]
    },
    {
      "cell_type": "code",
      "metadata": {
        "id": "k5TPUcYCBgw_",
        "colab_type": "code",
        "colab": {
          "base_uri": "https://localhost:8080/",
          "height": 54
        },
        "outputId": "766a1290-eb47-4670-d0c9-73418cffd7af"
      },
      "source": [
        "from google.colab import drive\n",
        "drive.mount('/content/gdrive')"
      ],
      "execution_count": null,
      "outputs": [
        {
          "output_type": "stream",
          "text": [
            "Drive already mounted at /content/gdrive; to attempt to forcibly remount, call drive.mount(\"/content/gdrive\", force_remount=True).\n"
          ],
          "name": "stdout"
        }
      ]
    },
    {
      "cell_type": "code",
      "metadata": {
        "id": "gSez7twzBnHJ",
        "colab_type": "code",
        "colab": {}
      },
      "source": [
        "from keras_preprocessing.image import ImageDataGenerator\n",
        "import pandas as pd\n",
        "import cv2\n",
        "import numpy as np\n",
        "from tensorflow.keras.layers import Dense,Flatten\n",
        "from tensorflow.keras.layers import MaxPool2D\n",
        "from tensorflow.keras.layers import Conv2D\n",
        "from tensorflow.keras.layers import UpSampling2D\n",
        "from tensorflow.keras import Input\n",
        "from google.colab.patches import cv2_imshow\n",
        "from tensorflow.keras import models\n",
        "from tensorflow.keras.models import load_model\n",
        "from sklearn.model_selection import train_test_split\n",
        "import matplotlib.pyplot as plt\n",
        "from sklearn.utils import shuffle\n",
        "from tensorflow.keras.models import Model"
      ],
      "execution_count": null,
      "outputs": []
    },
    {
      "cell_type": "code",
      "metadata": {
        "id": "StNAOow3B5cW",
        "colab_type": "code",
        "colab": {}
      },
      "source": [
        "# First read the train and test CSV files as DataFrames\n",
        "traindf=pd.read_csv('/content/gdrive/My Drive/Autoencoder_Dataset/train_info_autoencoder.csv')\n",
        "testdf=pd.read_csv('/content/gdrive/My Drive/Autoencoder_Dataset/test_info_autoencoder.csv')"
      ],
      "execution_count": null,
      "outputs": []
    },
    {
      "cell_type": "code",
      "metadata": {
        "id": "5AJljrK6pJ2x",
        "colab_type": "code",
        "colab": {}
      },
      "source": [
        "def fixed_generator(generator):\n",
        "    for batch in generator:\n",
        "        yield (batch, batch)"
      ],
      "execution_count": null,
      "outputs": []
    },
    {
      "cell_type": "code",
      "metadata": {
        "id": "SZSHbeFXLX6Y",
        "colab_type": "code",
        "colab": {
          "base_uri": "https://localhost:8080/",
          "height": 85
        },
        "outputId": "73f03ea1-bec6-4530-f0b6-613dff7d0ecb"
      },
      "source": [
        "datagen=ImageDataGenerator(rescale=1./255,validation_split=0.25)\n",
        "train_generator=datagen.flow_from_dataframe(\n",
        "dataframe=traindf,\n",
        "directory=\"/content/gdrive/My Drive/Autoencoder_Dataset/Depth/Depth_autoenco/\",\n",
        "x_col=\"Filename\",\n",
        "color_mode=\"grayscale\",\n",
        "#y_col=\"label\",\n",
        "subset=\"training\",\n",
        "batch_size=32,\n",
        "seed=42,\n",
        "shuffle=True,\n",
        "class_mode=None,\n",
        "target_size=(424,512))\n",
        "valid_generator=datagen.flow_from_dataframe(\n",
        "dataframe=traindf,\n",
        "directory=\"/content/gdrive/My Drive/Autoencoder_Dataset/Depth/Depth_autoenco/\",\n",
        "x_col=\"Filename\",\n",
        "color_mode=\"grayscale\",\n",
        "#y_col=\"label\",\n",
        "subset=\"validation\",\n",
        "batch_size=32,\n",
        "seed=42,\n",
        "shuffle=True,\n",
        "class_mode=None,\n",
        "target_size=(424,512))\n",
        "\n",
        "print(type(next(valid_generator)))\n",
        "print(next(valid_generator).shape)"
      ],
      "execution_count": null,
      "outputs": [
        {
          "output_type": "stream",
          "text": [
            "Found 1248 validated image filenames.\n",
            "Found 415 validated image filenames.\n",
            "<class 'numpy.ndarray'>\n",
            "(32, 424, 512, 1)\n"
          ],
          "name": "stdout"
        }
      ]
    },
    {
      "cell_type": "code",
      "metadata": {
        "id": "HDJFFuHehvWw",
        "colab_type": "code",
        "colab": {
          "base_uri": "https://localhost:8080/",
          "height": 34
        },
        "outputId": "9901205a-c9fd-4110-a9aa-1848a92bd1b3"
      },
      "source": [
        "test_datagen=ImageDataGenerator(rescale=1./255.)\n",
        "test_generator=test_datagen.flow_from_dataframe(\n",
        "dataframe=testdf,\n",
        "directory=\"/content/gdrive/My Drive/Autoencoder_Dataset/Depth/Depth_autoenco/\",\n",
        "x_col=\"Filename\",\n",
        "#y_col=None,\n",
        "color_mode=\"grayscale\",\n",
        "batch_size=32,\n",
        "seed=42,\n",
        "shuffle=False,\n",
        "class_mode=None,\n",
        "target_size=(424,512))"
      ],
      "execution_count": null,
      "outputs": [
        {
          "output_type": "stream",
          "text": [
            "Found 416 validated image filenames.\n"
          ],
          "name": "stdout"
        }
      ]
    },
    {
      "cell_type": "code",
      "metadata": {
        "id": "Pg0vnS_kkHv1",
        "colab_type": "code",
        "colab": {}
      },
      "source": [
        "input_img=Input(shape=(424,512,1))\n",
        "nn=Conv2D(16,(7,7),activation='relu',padding='same')(input_img)\n",
        "nn=MaxPool2D(pool_size=(4,4),strides=(4,4))(nn)\n",
        "nn=Conv2D(32,(5,5),activation='relu',padding='same')(nn)\n",
        "encoded=MaxPool2D(pool_size=(2,4),strides=(2,4),name=\"bottleneck\")(nn)\n",
        "\n",
        "dnn=Conv2D(32,(5,5),activation='relu',padding='same')(encoded)\n",
        "dnn=UpSampling2D((2,4))(dnn)\n",
        "dnn=Conv2D(16,(7,7),activation='relu',padding='same')(dnn)\n",
        "dnn=UpSampling2D((4,4))(dnn)\n",
        "decoded=Conv2D(1,(3,3),activation='sigmoid',padding='same')(dnn)\n",
        "\n",
        "\n"
      ],
      "execution_count": null,
      "outputs": []
    },
    {
      "cell_type": "code",
      "metadata": {
        "id": "flkpz0hqk503",
        "colab_type": "code",
        "colab": {
          "base_uri": "https://localhost:8080/",
          "height": 493
        },
        "outputId": "b54d724f-1eea-4cbf-cd68-0a52a2d5e67e"
      },
      "source": [
        "model=Model(input_img,decoded)\n",
        "model.summary()\n",
        "model.compile(optimizer='adam',loss='mean_squared_error')"
      ],
      "execution_count": null,
      "outputs": [
        {
          "output_type": "stream",
          "text": [
            "Model: \"model\"\n",
            "_________________________________________________________________\n",
            "Layer (type)                 Output Shape              Param #   \n",
            "=================================================================\n",
            "input_1 (InputLayer)         [(None, 424, 512, 1)]     0         \n",
            "_________________________________________________________________\n",
            "conv2d (Conv2D)              (None, 424, 512, 16)      800       \n",
            "_________________________________________________________________\n",
            "max_pooling2d (MaxPooling2D) (None, 106, 128, 16)      0         \n",
            "_________________________________________________________________\n",
            "conv2d_1 (Conv2D)            (None, 106, 128, 32)      12832     \n",
            "_________________________________________________________________\n",
            "bottleneck (MaxPooling2D)    (None, 53, 32, 32)        0         \n",
            "_________________________________________________________________\n",
            "conv2d_2 (Conv2D)            (None, 53, 32, 32)        25632     \n",
            "_________________________________________________________________\n",
            "up_sampling2d (UpSampling2D) (None, 106, 128, 32)      0         \n",
            "_________________________________________________________________\n",
            "conv2d_3 (Conv2D)            (None, 106, 128, 16)      25104     \n",
            "_________________________________________________________________\n",
            "up_sampling2d_1 (UpSampling2 (None, 424, 512, 16)      0         \n",
            "_________________________________________________________________\n",
            "conv2d_4 (Conv2D)            (None, 424, 512, 1)       145       \n",
            "=================================================================\n",
            "Total params: 64,513\n",
            "Trainable params: 64,513\n",
            "Non-trainable params: 0\n",
            "_________________________________________________________________\n"
          ],
          "name": "stdout"
        }
      ]
    },
    {
      "cell_type": "code",
      "metadata": {
        "id": "efMXr9oWlCPi",
        "colab_type": "code",
        "colab": {
          "base_uri": "https://localhost:8080/",
          "height": 428
        },
        "outputId": "e91b7bf9-df37-4d0f-de45-6555670e8583"
      },
      "source": [
        "STEP_SIZE_TRAIN=train_generator.n//train_generator.batch_size\n",
        "STEP_SIZE_VALID=valid_generator.n//valid_generator.batch_size\n",
        "STEP_SIZE_TEST=test_generator.n//test_generator.batch_size\n",
        "history=model.fit_generator(generator=fixed_generator(train_generator),\n",
        "                    epochs=10,\n",
        "                    steps_per_epoch=STEP_SIZE_TRAIN,\n",
        "                    validation_data=fixed_generator(valid_generator),\n",
        "                    validation_steps=STEP_SIZE_VALID)"
      ],
      "execution_count": null,
      "outputs": [
        {
          "output_type": "stream",
          "text": [
            "WARNING:tensorflow:From <ipython-input-9-3aaa12b1296a>:8: Model.fit_generator (from tensorflow.python.keras.engine.training) is deprecated and will be removed in a future version.\n",
            "Instructions for updating:\n",
            "Please use Model.fit, which supports generators.\n",
            "Epoch 1/10\n",
            "39/39 [==============================] - 707s 18s/step - loss: 0.0435 - val_loss: 0.0176\n",
            "Epoch 2/10\n",
            "39/39 [==============================] - 630s 16s/step - loss: 0.0099 - val_loss: 0.0064\n",
            "Epoch 3/10\n",
            "39/39 [==============================] - 629s 16s/step - loss: 0.0049 - val_loss: 0.0040\n",
            "Epoch 4/10\n",
            "39/39 [==============================] - 628s 16s/step - loss: 0.0039 - val_loss: 0.0034\n",
            "Epoch 5/10\n",
            "39/39 [==============================] - 631s 16s/step - loss: 0.0036 - val_loss: 0.0034\n",
            "Epoch 6/10\n",
            "39/39 [==============================] - 631s 16s/step - loss: 0.0034 - val_loss: 0.0033\n",
            "Epoch 7/10\n",
            "39/39 [==============================] - 631s 16s/step - loss: 0.0033 - val_loss: 0.0032\n",
            "Epoch 8/10\n",
            "39/39 [==============================] - 630s 16s/step - loss: 0.0032 - val_loss: 0.0030\n",
            "Epoch 9/10\n",
            "39/39 [==============================] - 631s 16s/step - loss: 0.0030 - val_loss: 0.0028\n",
            "Epoch 10/10\n",
            "39/39 [==============================] - 630s 16s/step - loss: 0.0030 - val_loss: 0.0029\n"
          ],
          "name": "stdout"
        }
      ]
    },
    {
      "cell_type": "code",
      "metadata": {
        "id": "e6Scdm16mCaq",
        "colab_type": "code",
        "colab": {
          "base_uri": "https://localhost:8080/",
          "height": 34
        },
        "outputId": "7bca5886-e94f-47c7-ac28-1a4fe3faaf97"
      },
      "source": [
        "test_generator.reset()\n",
        "pred=model.predict_generator(fixed_generator(test_generator),\n",
        "steps=STEP_SIZE_TEST,\n",
        "verbose=1)"
      ],
      "execution_count": null,
      "outputs": [
        {
          "output_type": "stream",
          "text": [
            "13/13 [==============================] - 47s 4s/step\n"
          ],
          "name": "stdout"
        }
      ]
    },
    {
      "cell_type": "code",
      "metadata": {
        "id": "Mmg7WG_ckah6",
        "colab_type": "code",
        "colab": {
          "base_uri": "https://localhost:8080/",
          "height": 320
        },
        "outputId": "ad0570ae-2e22-4933-861d-38a2bcb7493a"
      },
      "source": [
        "from google.colab.patches import cv2_imshow\n",
        "print(pred.shape)\n",
        "fig,axs=plt.subplots(2)\n",
        "img=cv2.imread(testdf.iloc[0,1],0)\n",
        "img1=cv2.resize(img,(512,424))\n",
        "print(img1.shape)\n",
        "axs[0].imshow(img1)\n",
        "axs[1].imshow(pred[0].reshape(424,512))"
      ],
      "execution_count": null,
      "outputs": [
        {
          "output_type": "stream",
          "text": [
            "(416, 424, 512, 1)\n",
            "(424, 512)\n"
          ],
          "name": "stdout"
        },
        {
          "output_type": "execute_result",
          "data": {
            "text/plain": [
              "<matplotlib.image.AxesImage at 0x7fe59f6438d0>"
            ]
          },
          "metadata": {
            "tags": []
          },
          "execution_count": 42
        },
        {
          "output_type": "display_data",
          "data": {
            "image/png": "[encoded data removed]",
            "text/plain": [
              "<Figure size 432x288 with 2 Axes>"
            ]
          },
          "metadata": {
            "tags": [],
            "needs_background": "light"
          }
        }
      ]
    },
    {
      "cell_type": "code",
      "metadata": {
        "id": "WuUz6KZvlf_B",
        "colab_type": "code",
        "colab": {
          "base_uri": "https://localhost:8080/",
          "height": 298
        },
        "outputId": "fd9ac2db-6186-4ba5-fbd1-20e1f08029e7"
      },
      "source": [
        "plt.plot(history.history['loss'],label='mse_train')\n",
        "plt.plot(history.history['val_loss'],label='mse_val')\n",
        "plt.xlabel('Epoch')\n",
        "plt.ylabel('Loss')\n",
        "# plt.ylim(0,15000)\n",
        "plt.legend(loc='upper right')"
      ],
      "execution_count": null,
      "outputs": [
        {
          "output_type": "execute_result",
          "data": {
            "text/plain": [
              "<matplotlib.legend.Legend at 0x7fe5a02302b0>"
            ]
          },
          "metadata": {
            "tags": []
          },
          "execution_count": 43
        },
        {
          "output_type": "display_data",
          "data": {
            "image/png": "[encoded data removed]",
            "text/plain": [
              "<Figure size 432x288 with 1 Axes>"
            ]
          },
          "metadata": {
            "tags": [],
            "needs_background": "light"
          }
        }
      ]
    },
    {
      "cell_type": "code",
      "metadata": {
        "id": "BLrj0x8NqZtf",
        "colab_type": "code",
        "colab": {
          "base_uri": "https://localhost:8080/",
          "height": 122
        },
        "outputId": "a4756277-7f3b-4881-d0e9-70ee18b138d5"
      },
      "source": [
        "from google.colab import drive\n",
        "drive.mount('/content/drive')"
      ],
      "execution_count": null,
      "outputs": [
        {
          "output_type": "stream",
          "text": [
            "Go to this URL in a browser: https://accounts.google.com/o/oauth2/auth?client_id=947318989803-6bn6qk8qdgf4n4g3pfee6491hc0brc4i.apps.googleusercontent.com&redirect_uri=urn%3aietf%3awg%3aoauth%3a2.0%3aoob&response_type=code&scope=email%20https%3a%2f%2fwww.googleapis.com%2fauth%2fdocs.test%20https%3a%2f%2fwww.googleapis.com%2fauth%2fdrive%20https%3a%2f%2fwww.googleapis.com%2fauth%2fdrive.photos.readonly%20https%3a%2f%2fwww.googleapis.com%2fauth%2fpeopleapi.readonly\n",
            "\n",
            "Enter your authorization code:\n",
            "··········\n",
            "Mounted at /content/drive\n"
          ],
          "name": "stdout"
        }
      ]
    },
    {
      "cell_type": "code",
      "metadata": {
        "id": "JwtgeXeIrbkX",
        "colab_type": "code",
        "colab": {
          "base_uri": "https://localhost:8080/",
          "height": 323
        },
        "outputId": "cef604f2-b414-42b4-9082-b7ee726be9c2"
      },
      "source": [
        "encoder=Model(input_img,model.get_layer(name=\"bottleneck\").output)\n",
        "encoder.summary()"
      ],
      "execution_count": null,
      "outputs": [
        {
          "output_type": "stream",
          "text": [
            "Model: \"model_1\"\n",
            "_________________________________________________________________\n",
            "Layer (type)                 Output Shape              Param #   \n",
            "=================================================================\n",
            "input_1 (InputLayer)         [(None, 424, 512, 1)]     0         \n",
            "_________________________________________________________________\n",
            "conv2d (Conv2D)              (None, 424, 512, 16)      800       \n",
            "_________________________________________________________________\n",
            "max_pooling2d (MaxPooling2D) (None, 106, 128, 16)      0         \n",
            "_________________________________________________________________\n",
            "conv2d_1 (Conv2D)            (None, 106, 128, 32)      12832     \n",
            "_________________________________________________________________\n",
            "bottleneck (MaxPooling2D)    (None, 53, 32, 32)        0         \n",
            "=================================================================\n",
            "Total params: 13,632\n",
            "Trainable params: 13,632\n",
            "Non-trainable params: 0\n",
            "_________________________________________________________________\n"
          ],
          "name": "stdout"
        }
      ]
    },
    {
      "cell_type": "code",
      "metadata": {
        "id": "VoDIDl8_sZ5W",
        "colab_type": "code",
        "colab": {}
      },
      "source": [
        "encoder.save('/content/gdrive/My Drive/save_model/autoencoder_encoder_to_dimest_dg.h5')"
      ],
      "execution_count": null,
      "outputs": []
    },
    {
      "cell_type": "code",
      "metadata": {
        "id": "iJXOfNMStB4M",
        "colab_type": "code",
        "colab": {}
      },
      "source": [
        ""
      ],
      "execution_count": null,
      "outputs": []
    }
  ]
}