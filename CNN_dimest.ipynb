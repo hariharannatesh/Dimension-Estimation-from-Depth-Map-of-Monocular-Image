{
  "nbformat": 4,
  "nbformat_minor": 0,
  "metadata": {
    "colab": {
      "name": "CNN_dimest.ipynb",
      "provenance": [],
      "collapsed_sections": [],
      "machine_shape": "hm",
      "mount_file_id": "1QlxKSWI0r_1UzZBSPe8cMt64-_jYoULL",
      "authorship_tag": "ABX9TyPbm/yEA16g0vt/qbCu5M7y",
      "include_colab_link": true
    },
    "kernelspec": {
      "name": "python3",
      "display_name": "Python 3"
    },
    "accelerator": "TPU"
  },
  "cells": [
    {
      "cell_type": "markdown",
      "metadata": {
        "id": "view-in-github",
        "colab_type": "text"
      },
      "source": [
        "<a href=\"https://colab.research.google.com/github/hariharannatesh/Dimension-Estimation-from-Depth-Map-of-Monocular-Image/blob/master/CNN_dimest.ipynb\" target=\"_parent\"><img src=\"https://colab.research.google.com/assets/colab-badge.svg\" alt=\"Open In Colab\"/></a>"
      ]
    },
    {
      "cell_type": "code",
      "metadata": {
        "id": "Uo_c3fPTfFr4",
        "colab_type": "code",
        "colab": {}
      },
      "source": [
        "a = []\n",
        "while(1):\n",
        "  a.append(1)"
      ],
      "execution_count": 0,
      "outputs": []
    },
    {
      "cell_type": "code",
      "metadata": {
        "id": "AK1gOuErqYUx",
        "colab_type": "code",
        "outputId": "d7fef1ee-dee0-4387-cb62-daecc0384885",
        "colab": {
          "base_uri": "https://localhost:8080/",
          "height": 122
        }
      },
      "source": [
        "from google.colab import drive\n",
        "drive.mount('/content/gdrive')"
      ],
      "execution_count": 0,
      "outputs": [
        {
          "output_type": "stream",
          "text": [
            "Go to this URL in a browser: https://accounts.google.com/o/oauth2/auth?client_id=947318989803-6bn6qk8qdgf4n4g3pfee6491hc0brc4i.apps.googleusercontent.com&redirect_uri=urn%3aietf%3awg%3aoauth%3a2.0%3aoob&response_type=code&scope=email%20https%3a%2f%2fwww.googleapis.com%2fauth%2fdocs.test%20https%3a%2f%2fwww.googleapis.com%2fauth%2fdrive%20https%3a%2f%2fwww.googleapis.com%2fauth%2fdrive.photos.readonly%20https%3a%2f%2fwww.googleapis.com%2fauth%2fpeopleapi.readonly\n",
            "\n",
            "Enter your authorization code:\n",
            "··········\n",
            "Mounted at /content/gdrive\n"
          ],
          "name": "stdout"
        }
      ]
    },
    {
      "cell_type": "code",
      "metadata": {
        "id": "S2lYtCiotTt-",
        "colab_type": "code",
        "colab": {}
      },
      "source": [
        "import cv2\n",
        "import numpy as np\n",
        "from google.colab.patches import cv2_imshow\n",
        "import tensorflow as tf\n",
        "from tensorflow.keras.preprocessing.image import ImageDataGenerator\n",
        "from tensorflow.keras.layers import MaxPooling2D\n",
        "from tensorflow.keras.layers import Flatten\n",
        "from tensorflow.keras.layers import Input\n",
        "from tensorflow.keras.layers import Conv2D\n",
        "from tensorflow.keras.layers import Dense\n",
        "from tensorflow.keras.layers import BatchNormalization\n",
        "from tensorflow.keras import models\n",
        "from tensorflow.keras.models import load_model\n",
        "from tensorflow.keras.callbacks import ModelCheckpoint\n",
        "import argparse\n",
        "from sklearn.model_selection import train_test_split\n",
        "import os\n",
        "import matplotlib.pyplot as plt\n",
        "from sklearn.utils import shuffle\n"
      ],
      "execution_count": 0,
      "outputs": []
    },
    {
      "cell_type": "code",
      "metadata": {
        "id": "B3rIPnLyatLJ",
        "colab_type": "code",
        "outputId": "fe432d35-d7b4-43d9-8fa9-df37334268dd",
        "colab": {
          "base_uri": "https://localhost:8080/",
          "height": 234
        }
      },
      "source": [
        "X_pos=np.load('gdrive/My Drive/Dataset/images_depth_positive.npy')\n",
        "X_pos=np.reshape(X_pos,(1276,200,200,1))\n",
        "cv2_imshow(X_pos[1])\n",
        "X_pos=X_pos/255.0\n",
        "Y_pos=np.load('gdrive/My Drive/Dataset/target_depth_positive.npy')\n",
        "print(Y_pos[1])\n",
        "# Y=Y/200"
      ],
      "execution_count": 0,
      "outputs": [
        {
          "output_type": "display_data",
          "data": {
            "image/png": "[encoded data removed]",
            "text/plain": [
              "<PIL.Image.Image image mode=RGB size=200x200 at 0x7F1F4210AD30>"
            ]
          },
          "metadata": {
            "tags": []
          }
        },
        {
          "output_type": "stream",
          "text": [
            "59.0\n"
          ],
          "name": "stdout"
        }
      ]
    },
    {
      "cell_type": "code",
      "metadata": {
        "colab_type": "code",
        "outputId": "d9efb89a-fa8b-49b7-bd1d-d1bbe1df9c7c",
        "id": "RazzhgQvgjXy",
        "colab": {
          "base_uri": "https://localhost:8080/",
          "height": 234
        }
      },
      "source": [
        "X=np.load('gdrive/My Drive/Dataset/images_depth_negative.npy')\n",
        "X=np.reshape(X,(1279,200,200,1))\n",
        "cv2_imshow(X[1])\n",
        "X=X/255.0\n",
        "Y=np.load('gdrive/My Drive/Dataset/target_depth_negative.npy')\n",
        "print(Y[1])"
      ],
      "execution_count": 0,
      "outputs": [
        {
          "output_type": "display_data",
          "data": {
            "image/png": "[encoded data removed]",
            "text/plain": [
              "<PIL.Image.Image image mode=RGB size=200x200 at 0x7FE23ADEC400>"
            ]
          },
          "metadata": {
            "tags": []
          }
        },
        {
          "output_type": "stream",
          "text": [
            "152.0\n"
          ],
          "name": "stdout"
        }
      ]
    },
    {
      "cell_type": "code",
      "metadata": {
        "id": "_6XSVDS3glT_",
        "colab_type": "code",
        "outputId": "2abcf852-c98d-4705-eb1a-58e2bac9c274",
        "colab": {
          "base_uri": "https://localhost:8080/",
          "height": 234
        }
      },
      "source": [
        "X_neg=np.load('gdrive/My Drive/Dataset/images_depth_negative.npy')\n",
        "for i in range(len(X_neg)):\n",
        "  X_neg[i]=cv2.flip(X_neg[i],1)\n",
        "X_neg=np.reshape(X_neg,(1279,200,200,1))\n",
        "cv2_imshow(X_neg[1])\n",
        "X_neg=X_neg/255.0\n",
        "Y_neg=np.load('gdrive/My Drive/Dataset/target_depth_negative.npy')\n",
        "print(Y_neg[1])"
      ],
      "execution_count": 0,
      "outputs": [
        {
          "output_type": "display_data",
          "data": {
            "image/png": "[encoded data removed]",
            "text/plain": [
              "<PIL.Image.Image image mode=RGB size=200x200 at 0x7F1F41E81470>"
            ]
          },
          "metadata": {
            "tags": []
          }
        },
        {
          "output_type": "stream",
          "text": [
            "152.0\n"
          ],
          "name": "stdout"
        }
      ]
    },
    {
      "cell_type": "code",
      "metadata": {
        "id": "2KI1JZnr4ByW",
        "colab_type": "code",
        "outputId": "b9371897-29a5-4182-ecf7-9e2d3c3d307f",
        "colab": {
          "base_uri": "https://localhost:8080/",
          "height": 34
        }
      },
      "source": [
        "X=np.concatenate((X_pos,X_neg),axis=0)\n",
        "Y=np.concatenate((Y_pos,Y_neg),axis=0)\n",
        "print(len(X),len(Y))"
      ],
      "execution_count": 0,
      "outputs": [
        {
          "output_type": "stream",
          "text": [
            "2555 2555\n"
          ],
          "name": "stdout"
        }
      ]
    },
    {
      "cell_type": "code",
      "metadata": {
        "id": "FK4jmISB4QVm",
        "colab_type": "code",
        "colab": {}
      },
      "source": [
        "X_new=[]\n",
        "X_new=np.asarray(X_new)\n",
        "Y_new=[]\n",
        "Y_new=np.asarray(Y_new)\n",
        "count=0\n",
        "for i in range(len(X)):\n",
        "  for j in range ((i+1),len(X)):\n",
        "    if(not(np.array_equal(X[i],X[j]))):\n",
        "      count=1\n",
        "    else:\n",
        "      count=0\n",
        "  if(count==1):\n",
        "    X_new=np.append(X_new,X[i])\n",
        "    Y_new=np.append(Y_new,Y[i])\n",
        "      \n"
      ],
      "execution_count": 0,
      "outputs": []
    },
    {
      "cell_type": "code",
      "metadata": {
        "id": "Nv6vIfKD_Vm-",
        "colab_type": "code",
        "outputId": "b78246b9-8a32-412f-8383-24f9fc0fb0cb",
        "colab": {
          "base_uri": "https://localhost:8080/",
          "height": 68
        }
      },
      "source": [
        "X,Y=shuffle(X,Y)\n",
        "X_new=X[0:1277]\n",
        "X_rest=X[1277:len(X)]\n",
        "Y_new=Y[0:1277]\n",
        "Y_rest=Y[1277:len(Y)]\n",
        "print(len(X_new))\n",
        "print(len(Y_new))\n",
        "print(len(X_rest))"
      ],
      "execution_count": 0,
      "outputs": [
        {
          "output_type": "stream",
          "text": [
            "1277\n",
            "1277\n",
            "1278\n"
          ],
          "name": "stdout"
        }
      ]
    },
    {
      "cell_type": "code",
      "metadata": {
        "id": "5mUAaCOke74B",
        "colab_type": "code",
        "outputId": "fb21987e-4a49-40cd-bb01-cb538562e26a",
        "colab": {
          "base_uri": "https://localhost:8080/",
          "height": 68
        }
      },
      "source": [
        "(trainX,testX,trainY,testY)=train_test_split(X_new,Y_new,test_size=0.2,random_state=73)\n",
        "print(trainX[0].shape)\n",
        "print(len(trainY))\n",
        "print(trainY[0])"
      ],
      "execution_count": 0,
      "outputs": [
        {
          "output_type": "stream",
          "text": [
            "(200, 200, 1)\n",
            "1021\n",
            "60.0\n"
          ],
          "name": "stdout"
        }
      ]
    },
    {
      "cell_type": "code",
      "metadata": {
        "id": "qV70zJwal3eK",
        "colab_type": "code",
        "colab": {}
      },
      "source": [
        "model=models.Sequential()"
      ],
      "execution_count": 0,
      "outputs": []
    },
    {
      "cell_type": "code",
      "metadata": {
        "id": "AHF2_DIzl8Va",
        "colab_type": "code",
        "outputId": "48c76bfa-30e8-4376-f2c5-5ae446fef6a7",
        "colab": {
          "base_uri": "https://localhost:8080/",
          "height": 459
        }
      },
      "source": [
        "model.add(Conv2D(16,(11,11),padding=\"same\",data_format='channels_last',input_shape=(200,200,1),use_bias=True,activation='relu'))\n",
        "model.add(MaxPooling2D(pool_size=(2,2),strides=(2,2)))\n",
        "model.add(BatchNormalization(axis=2))\n",
        "model.add(Conv2D(32,(7,7),padding=\"same\",data_format='channels_last',use_bias=True,activation='relu'))\n",
        "model.add(MaxPooling2D(pool_size=(2,2),strides=(2,2)))\n",
        "model.add(BatchNormalization(axis=2))\n",
        "model.add(Conv2D(64,(5,5),padding=\"same\",data_format='channels_last',use_bias=True,activation='relu'))\n",
        "model.add(MaxPooling2D(pool_size=(2,2),strides=(2,2)))\n",
        "model.add(BatchNormalization(axis=2))\n",
        "#model.add(MaxPooling2D(pool_size=(2,2),strides=(1,1)))\n",
        "#model.add(Conv2D(128,(3,3),padding=\"same\",data_format='channels_last',use_bias=True,activation='relu'))\n",
        "#model.add(MaxPooling2D(pool_size=(2,2),strides=(2,2)))\n",
        "model.summary()"
      ],
      "execution_count": 0,
      "outputs": [
        {
          "output_type": "stream",
          "text": [
            "Model: \"sequential\"\n",
            "_________________________________________________________________\n",
            "Layer (type)                 Output Shape              Param #   \n",
            "=================================================================\n",
            "conv2d (Conv2D)              (None, 200, 200, 16)      1952      \n",
            "_________________________________________________________________\n",
            "max_pooling2d (MaxPooling2D) (None, 100, 100, 16)      0         \n",
            "_________________________________________________________________\n",
            "batch_normalization (BatchNo (None, 100, 100, 16)      400       \n",
            "_________________________________________________________________\n",
            "conv2d_1 (Conv2D)            (None, 100, 100, 32)      25120     \n",
            "_________________________________________________________________\n",
            "max_pooling2d_1 (MaxPooling2 (None, 50, 50, 32)        0         \n",
            "_________________________________________________________________\n",
            "batch_normalization_1 (Batch (None, 50, 50, 32)        200       \n",
            "_________________________________________________________________\n",
            "conv2d_2 (Conv2D)            (None, 50, 50, 64)        51264     \n",
            "_________________________________________________________________\n",
            "max_pooling2d_2 (MaxPooling2 (None, 25, 25, 64)        0         \n",
            "_________________________________________________________________\n",
            "batch_normalization_2 (Batch (None, 25, 25, 64)        100       \n",
            "=================================================================\n",
            "Total params: 79,036\n",
            "Trainable params: 78,686\n",
            "Non-trainable params: 350\n",
            "_________________________________________________________________\n"
          ],
          "name": "stdout"
        }
      ]
    },
    {
      "cell_type": "code",
      "metadata": {
        "colab_type": "code",
        "outputId": "08976492-11ea-4a0d-e27a-0072714ca230",
        "id": "PHslMSdh4ehM",
        "colab": {
          "base_uri": "https://localhost:8080/",
          "height": 595
        }
      },
      "source": [
        "model.add(Flatten())\n",
        "#model.add(Dense(10000,activation='relu',use_bias=True))\n",
        "model.add(Dense(1000,activation='relu',use_bias=True))\n",
        "model.add(Dense(100,activation='relu',use_bias=True))\n",
        "model.add(Dense(1))\n",
        "model.summary()"
      ],
      "execution_count": 0,
      "outputs": [
        {
          "output_type": "stream",
          "text": [
            "Model: \"sequential\"\n",
            "_________________________________________________________________\n",
            "Layer (type)                 Output Shape              Param #   \n",
            "=================================================================\n",
            "conv2d (Conv2D)              (None, 200, 200, 16)      1952      \n",
            "_________________________________________________________________\n",
            "max_pooling2d (MaxPooling2D) (None, 100, 100, 16)      0         \n",
            "_________________________________________________________________\n",
            "batch_normalization (BatchNo (None, 100, 100, 16)      400       \n",
            "_________________________________________________________________\n",
            "conv2d_1 (Conv2D)            (None, 100, 100, 32)      25120     \n",
            "_________________________________________________________________\n",
            "max_pooling2d_1 (MaxPooling2 (None, 50, 50, 32)        0         \n",
            "_________________________________________________________________\n",
            "batch_normalization_1 (Batch (None, 50, 50, 32)        200       \n",
            "_________________________________________________________________\n",
            "conv2d_2 (Conv2D)            (None, 50, 50, 64)        51264     \n",
            "_________________________________________________________________\n",
            "max_pooling2d_2 (MaxPooling2 (None, 25, 25, 64)        0         \n",
            "_________________________________________________________________\n",
            "batch_normalization_2 (Batch (None, 25, 25, 64)        100       \n",
            "_________________________________________________________________\n",
            "flatten (Flatten)            (None, 40000)             0         \n",
            "_________________________________________________________________\n",
            "dense (Dense)                (None, 1000)              40001000  \n",
            "_________________________________________________________________\n",
            "dense_1 (Dense)              (None, 100)               100100    \n",
            "_________________________________________________________________\n",
            "dense_2 (Dense)              (None, 1)                 101       \n",
            "=================================================================\n",
            "Total params: 40,180,237\n",
            "Trainable params: 40,179,887\n",
            "Non-trainable params: 350\n",
            "_________________________________________________________________\n"
          ],
          "name": "stdout"
        }
      ]
    },
    {
      "cell_type": "code",
      "metadata": {
        "id": "ZWJi5v53j9fb",
        "colab_type": "code",
        "colab": {}
      },
      "source": [
        "checkpoint_path = \"gdrive/My Drive/training/cpbn_mix_pos500.ckpt\"\n",
        "checkpoint_dir = os.path.dirname(checkpoint_path)\n"
      ],
      "execution_count": 0,
      "outputs": []
    },
    {
      "cell_type": "code",
      "metadata": {
        "id": "-3jcBn53k3Ja",
        "colab_type": "code",
        "colab": {}
      },
      "source": [
        "cp_callback = ModelCheckpoint(filepath=checkpoint_path,verbose=1,save_weights_only=True)"
      ],
      "execution_count": 0,
      "outputs": []
    },
    {
      "cell_type": "code",
      "metadata": {
        "id": "9qTCsdMxojIb",
        "colab_type": "code",
        "colab": {}
      },
      "source": [
        "model.save_weights(checkpoint_path.format(epoch=0))"
      ],
      "execution_count": 0,
      "outputs": []
    },
    {
      "cell_type": "code",
      "metadata": {
        "id": "mXRMEl6qfq1s",
        "colab_type": "code",
        "outputId": "90b3c1d6-c34b-46ce-ad31-d825eb9d1160",
        "colab": {
          "base_uri": "https://localhost:8080/",
          "height": 34
        }
      },
      "source": [
        "model.load_weights(checkpoint_path)"
      ],
      "execution_count": 0,
      "outputs": [
        {
          "output_type": "execute_result",
          "data": {
            "text/plain": [
              "<tensorflow.python.training.tracking.util.CheckpointLoadStatus at 0x7f1f41ea57b8>"
            ]
          },
          "metadata": {
            "tags": []
          },
          "execution_count": 14
        }
      ]
    },
    {
      "cell_type": "code",
      "metadata": {
        "id": "1BBMf6f7s_VC",
        "colab_type": "code",
        "outputId": "71d938ba-ac1a-4b07-e657-3cc14c94cce2",
        "colab": {
          "base_uri": "https://localhost:8080/",
          "height": 1000
        }
      },
      "source": [
        "model.compile(optimizer='rmsprop',loss=tf.keras.losses.MeanSquaredError(),metrics=['mean_squared_error'])\n",
        "history=model.fit(trainX,trainY,initial_epoch=412,epochs=500,shuffle=1,validation_split=0.2,callbacks=[cp_callback])"
      ],
      "execution_count": 0,
      "outputs": [
        {
          "output_type": "stream",
          "text": [
            "Epoch 413/500\n",
            "26/26 [==============================] - ETA: 0s - loss: 256.4176 - mean_squared_error: 256.0977\n",
            "Epoch 00413: saving model to gdrive/My Drive/training/cpbn_mix_pos500.ckpt\n",
            "26/26 [==============================] - 25s 950ms/step - loss: 256.4176 - mean_squared_error: 256.0977 - val_loss: 376.6798 - val_mean_squared_error: 395.0449\n",
            "Epoch 414/500\n",
            "26/26 [==============================] - ETA: 0s - loss: 211.6191 - mean_squared_error: 213.3567\n",
            "Epoch 00414: saving model to gdrive/My Drive/training/cpbn_mix_pos500.ckpt\n",
            "26/26 [==============================] - 24s 933ms/step - loss: 211.6191 - mean_squared_error: 213.3567 - val_loss: 405.4696 - val_mean_squared_error: 404.1830\n",
            "Epoch 415/500\n",
            "26/26 [==============================] - ETA: 0s - loss: 229.4209 - mean_squared_error: 231.7070\n",
            "Epoch 00415: saving model to gdrive/My Drive/training/cpbn_mix_pos500.ckpt\n",
            "26/26 [==============================] - 24s 940ms/step - loss: 229.4209 - mean_squared_error: 231.7070 - val_loss: 317.1484 - val_mean_squared_error: 320.2318\n",
            "Epoch 416/500\n",
            "26/26 [==============================] - ETA: 0s - loss: 204.0536 - mean_squared_error: 199.0047\n",
            "Epoch 00416: saving model to gdrive/My Drive/training/cpbn_mix_pos500.ckpt\n",
            "26/26 [==============================] - 25s 952ms/step - loss: 204.0536 - mean_squared_error: 199.0047 - val_loss: 662.4074 - val_mean_squared_error: 675.8621\n",
            "Epoch 417/500\n",
            "26/26 [==============================] - ETA: 0s - loss: 217.4214 - mean_squared_error: 215.2827\n",
            "Epoch 00417: saving model to gdrive/My Drive/training/cpbn_mix_pos500.ckpt\n",
            "26/26 [==============================] - 25s 958ms/step - loss: 217.4214 - mean_squared_error: 215.2827 - val_loss: 364.9100 - val_mean_squared_error: 379.4298\n",
            "Epoch 418/500\n",
            "26/26 [==============================] - ETA: 0s - loss: 190.3419 - mean_squared_error: 193.1256\n",
            "Epoch 00418: saving model to gdrive/My Drive/training/cpbn_mix_pos500.ckpt\n",
            "26/26 [==============================] - 25s 953ms/step - loss: 190.3419 - mean_squared_error: 193.1256 - val_loss: 242.3470 - val_mean_squared_error: 258.9716\n",
            "Epoch 419/500\n",
            "26/26 [==============================] - ETA: 0s - loss: 203.0818 - mean_squared_error: 204.6648\n",
            "Epoch 00419: saving model to gdrive/My Drive/training/cpbn_mix_pos500.ckpt\n",
            "26/26 [==============================] - 25s 948ms/step - loss: 203.0818 - mean_squared_error: 204.6648 - val_loss: 296.0779 - val_mean_squared_error: 310.3387\n",
            "Epoch 420/500\n",
            "26/26 [==============================] - ETA: 0s - loss: 191.6440 - mean_squared_error: 191.5038\n",
            "Epoch 00420: saving model to gdrive/My Drive/training/cpbn_mix_pos500.ckpt\n",
            "26/26 [==============================] - 25s 944ms/step - loss: 191.6440 - mean_squared_error: 191.5038 - val_loss: 320.3452 - val_mean_squared_error: 341.6626\n",
            "Epoch 421/500\n",
            "26/26 [==============================] - ETA: 0s - loss: 190.4860 - mean_squared_error: 191.9524\n",
            "Epoch 00421: saving model to gdrive/My Drive/training/cpbn_mix_pos500.ckpt\n",
            "26/26 [==============================] - 25s 971ms/step - loss: 190.4860 - mean_squared_error: 191.9524 - val_loss: 226.1558 - val_mean_squared_error: 239.4919\n",
            "Epoch 422/500\n",
            "26/26 [==============================] - ETA: 0s - loss: 167.5387 - mean_squared_error: 168.6683\n",
            "Epoch 00422: saving model to gdrive/My Drive/training/cpbn_mix_pos500.ckpt\n",
            "26/26 [==============================] - 24s 933ms/step - loss: 167.5387 - mean_squared_error: 168.6683 - val_loss: 274.9185 - val_mean_squared_error: 285.2516\n",
            "Epoch 423/500\n",
            "26/26 [==============================] - ETA: 0s - loss: 169.3380 - mean_squared_error: 167.5641\n",
            "Epoch 00423: saving model to gdrive/My Drive/training/cpbn_mix_pos500.ckpt\n",
            "26/26 [==============================] - 25s 951ms/step - loss: 169.3380 - mean_squared_error: 167.5641 - val_loss: 286.1454 - val_mean_squared_error: 301.9529\n",
            "Epoch 424/500\n",
            "26/26 [==============================] - ETA: 0s - loss: 174.2358 - mean_squared_error: 174.0135\n",
            "Epoch 00424: saving model to gdrive/My Drive/training/cpbn_mix_pos500.ckpt\n",
            "26/26 [==============================] - 25s 948ms/step - loss: 174.2358 - mean_squared_error: 174.0135 - val_loss: 249.0827 - val_mean_squared_error: 259.4663\n",
            "Epoch 425/500\n",
            "26/26 [==============================] - ETA: 0s - loss: 188.9256 - mean_squared_error: 190.6809\n",
            "Epoch 00425: saving model to gdrive/My Drive/training/cpbn_mix_pos500.ckpt\n",
            "26/26 [==============================] - 25s 947ms/step - loss: 188.9256 - mean_squared_error: 190.6809 - val_loss: 322.9665 - val_mean_squared_error: 339.4360\n",
            "Epoch 426/500\n",
            "26/26 [==============================] - ETA: 0s - loss: 187.9033 - mean_squared_error: 190.6100\n",
            "Epoch 00426: saving model to gdrive/My Drive/training/cpbn_mix_pos500.ckpt\n",
            "26/26 [==============================] - 25s 950ms/step - loss: 187.9033 - mean_squared_error: 190.6100 - val_loss: 324.2539 - val_mean_squared_error: 336.1344\n",
            "Epoch 427/500\n",
            "26/26 [==============================] - ETA: 0s - loss: 176.4861 - mean_squared_error: 175.6442\n",
            "Epoch 00427: saving model to gdrive/My Drive/training/cpbn_mix_pos500.ckpt\n",
            "26/26 [==============================] - 25s 944ms/step - loss: 176.4861 - mean_squared_error: 175.6442 - val_loss: 243.1481 - val_mean_squared_error: 259.4371\n",
            "Epoch 428/500\n",
            "26/26 [==============================] - ETA: 0s - loss: 156.4136 - mean_squared_error: 157.1185\n",
            "Epoch 00428: saving model to gdrive/My Drive/training/cpbn_mix_pos500.ckpt\n",
            "26/26 [==============================] - 24s 935ms/step - loss: 156.4136 - mean_squared_error: 157.1185 - val_loss: 227.5838 - val_mean_squared_error: 243.0780\n",
            "Epoch 429/500\n",
            "26/26 [==============================] - ETA: 0s - loss: 173.5792 - mean_squared_error: 173.4711\n",
            "Epoch 00429: saving model to gdrive/My Drive/training/cpbn_mix_pos500.ckpt\n",
            "26/26 [==============================] - 24s 939ms/step - loss: 173.5792 - mean_squared_error: 173.4711 - val_loss: 253.5483 - val_mean_squared_error: 271.9006\n",
            "Epoch 430/500\n",
            "26/26 [==============================] - ETA: 0s - loss: 171.9514 - mean_squared_error: 166.0075\n",
            "Epoch 00430: saving model to gdrive/My Drive/training/cpbn_mix_pos500.ckpt\n",
            "26/26 [==============================] - 25s 949ms/step - loss: 171.9514 - mean_squared_error: 166.0075 - val_loss: 461.3202 - val_mean_squared_error: 481.7596\n",
            "Epoch 431/500\n",
            "26/26 [==============================] - ETA: 0s - loss: 167.3478 - mean_squared_error: 167.0814\n",
            "Epoch 00431: saving model to gdrive/My Drive/training/cpbn_mix_pos500.ckpt\n",
            "26/26 [==============================] - 25s 958ms/step - loss: 167.3478 - mean_squared_error: 167.0814 - val_loss: 255.6932 - val_mean_squared_error: 270.8242\n",
            "Epoch 432/500\n",
            "26/26 [==============================] - ETA: 0s - loss: 183.9273 - mean_squared_error: 183.0770\n",
            "Epoch 00432: saving model to gdrive/My Drive/training/cpbn_mix_pos500.ckpt\n",
            "26/26 [==============================] - 25s 953ms/step - loss: 183.9273 - mean_squared_error: 183.0770 - val_loss: 273.7730 - val_mean_squared_error: 276.0275\n",
            "Epoch 433/500\n",
            "26/26 [==============================] - ETA: 0s - loss: 163.0396 - mean_squared_error: 161.6566\n",
            "Epoch 00433: saving model to gdrive/My Drive/training/cpbn_mix_pos500.ckpt\n",
            "26/26 [==============================] - 25s 973ms/step - loss: 163.0396 - mean_squared_error: 161.6566 - val_loss: 272.6223 - val_mean_squared_error: 276.3504\n",
            "Epoch 434/500\n",
            "26/26 [==============================] - ETA: 0s - loss: 176.7337 - mean_squared_error: 176.5571\n",
            "Epoch 00434: saving model to gdrive/My Drive/training/cpbn_mix_pos500.ckpt\n",
            "26/26 [==============================] - 25s 954ms/step - loss: 176.7337 - mean_squared_error: 176.5571 - val_loss: 234.8636 - val_mean_squared_error: 246.1943\n",
            "Epoch 435/500\n",
            "26/26 [==============================] - ETA: 0s - loss: 153.0094 - mean_squared_error: 153.0700\n",
            "Epoch 00435: saving model to gdrive/My Drive/training/cpbn_mix_pos500.ckpt\n",
            "26/26 [==============================] - 25s 953ms/step - loss: 153.0094 - mean_squared_error: 153.0700 - val_loss: 330.1701 - val_mean_squared_error: 348.4969\n",
            "Epoch 436/500\n",
            "26/26 [==============================] - ETA: 0s - loss: 181.0547 - mean_squared_error: 181.3937\n",
            "Epoch 00436: saving model to gdrive/My Drive/training/cpbn_mix_pos500.ckpt\n",
            "26/26 [==============================] - 25s 979ms/step - loss: 181.0547 - mean_squared_error: 181.3937 - val_loss: 463.1734 - val_mean_squared_error: 480.0306\n",
            "Epoch 437/500\n",
            "26/26 [==============================] - ETA: 0s - loss: 158.7148 - mean_squared_error: 156.9602\n",
            "Epoch 00437: saving model to gdrive/My Drive/training/cpbn_mix_pos500.ckpt\n",
            "26/26 [==============================] - 25s 953ms/step - loss: 158.7148 - mean_squared_error: 156.9602 - val_loss: 235.4185 - val_mean_squared_error: 242.1861\n",
            "Epoch 438/500\n",
            "26/26 [==============================] - ETA: 0s - loss: 148.3363 - mean_squared_error: 149.3889\n",
            "Epoch 00438: saving model to gdrive/My Drive/training/cpbn_mix_pos500.ckpt\n",
            "26/26 [==============================] - 24s 935ms/step - loss: 148.3363 - mean_squared_error: 149.3889 - val_loss: 249.2270 - val_mean_squared_error: 266.3096\n",
            "Epoch 439/500\n",
            "26/26 [==============================] - ETA: 0s - loss: 184.0392 - mean_squared_error: 176.2139\n",
            "Epoch 00439: saving model to gdrive/My Drive/training/cpbn_mix_pos500.ckpt\n",
            "26/26 [==============================] - 25s 945ms/step - loss: 184.0392 - mean_squared_error: 176.2139 - val_loss: 334.0654 - val_mean_squared_error: 328.1938\n",
            "Epoch 440/500\n",
            "26/26 [==============================] - ETA: 0s - loss: 165.7593 - mean_squared_error: 166.1310\n",
            "Epoch 00440: saving model to gdrive/My Drive/training/cpbn_mix_pos500.ckpt\n",
            "26/26 [==============================] - 24s 941ms/step - loss: 165.7593 - mean_squared_error: 166.1310 - val_loss: 276.8310 - val_mean_squared_error: 297.4874\n",
            "Epoch 441/500\n",
            "26/26 [==============================] - ETA: 0s - loss: 159.2711 - mean_squared_error: 159.3372\n",
            "Epoch 00441: saving model to gdrive/My Drive/training/cpbn_mix_pos500.ckpt\n",
            "26/26 [==============================] - 24s 940ms/step - loss: 159.2711 - mean_squared_error: 159.3372 - val_loss: 226.6829 - val_mean_squared_error: 238.8387\n",
            "Epoch 442/500\n",
            "26/26 [==============================] - ETA: 0s - loss: 153.5248 - mean_squared_error: 149.1375\n",
            "Epoch 00442: saving model to gdrive/My Drive/training/cpbn_mix_pos500.ckpt\n",
            "26/26 [==============================] - 25s 953ms/step - loss: 153.5248 - mean_squared_error: 149.1375 - val_loss: 328.5606 - val_mean_squared_error: 347.0507\n",
            "Epoch 443/500\n",
            "26/26 [==============================] - ETA: 0s - loss: 195.5818 - mean_squared_error: 198.3753\n",
            "Epoch 00443: saving model to gdrive/My Drive/training/cpbn_mix_pos500.ckpt\n",
            "26/26 [==============================] - 24s 941ms/step - loss: 195.5818 - mean_squared_error: 198.3753 - val_loss: 288.1063 - val_mean_squared_error: 306.7277\n",
            "Epoch 444/500\n",
            "26/26 [==============================] - ETA: 0s - loss: 167.1296 - mean_squared_error: 165.8484\n",
            "Epoch 00444: saving model to gdrive/My Drive/training/cpbn_mix_pos500.ckpt\n",
            "26/26 [==============================] - 25s 948ms/step - loss: 167.1296 - mean_squared_error: 165.8484 - val_loss: 263.1187 - val_mean_squared_error: 269.4920\n",
            "Epoch 445/500\n",
            "26/26 [==============================] - ETA: 0s - loss: 167.5071 - mean_squared_error: 168.8873\n",
            "Epoch 00445: saving model to gdrive/My Drive/training/cpbn_mix_pos500.ckpt\n",
            "26/26 [==============================] - 25s 972ms/step - loss: 167.5071 - mean_squared_error: 168.8873 - val_loss: 272.0921 - val_mean_squared_error: 287.7353\n",
            "Epoch 446/500\n",
            "26/26 [==============================] - ETA: 0s - loss: 163.7446 - mean_squared_error: 163.4294\n",
            "Epoch 00446: saving model to gdrive/My Drive/training/cpbn_mix_pos500.ckpt\n",
            "26/26 [==============================] - 25s 958ms/step - loss: 163.7446 - mean_squared_error: 163.4294 - val_loss: 561.8094 - val_mean_squared_error: 580.9878\n",
            "Epoch 447/500\n",
            "26/26 [==============================] - ETA: 0s - loss: 160.4778 - mean_squared_error: 160.5702\n",
            "Epoch 00447: saving model to gdrive/My Drive/training/cpbn_mix_pos500.ckpt\n",
            "26/26 [==============================] - 25s 970ms/step - loss: 160.4778 - mean_squared_error: 160.5702 - val_loss: 252.3568 - val_mean_squared_error: 266.7471\n",
            "Epoch 448/500\n",
            "26/26 [==============================] - ETA: 0s - loss: 185.5319 - mean_squared_error: 185.7950\n",
            "Epoch 00448: saving model to gdrive/My Drive/training/cpbn_mix_pos500.ckpt\n",
            "26/26 [==============================] - 25s 950ms/step - loss: 185.5319 - mean_squared_error: 185.7950 - val_loss: 243.8586 - val_mean_squared_error: 257.4103\n",
            "Epoch 449/500\n",
            "26/26 [==============================] - ETA: 0s - loss: 156.4543 - mean_squared_error: 158.7283\n",
            "Epoch 00449: saving model to gdrive/My Drive/training/cpbn_mix_pos500.ckpt\n",
            "26/26 [==============================] - 25s 953ms/step - loss: 156.4543 - mean_squared_error: 158.7283 - val_loss: 208.8122 - val_mean_squared_error: 221.5694\n",
            "Epoch 450/500\n",
            "26/26 [==============================] - ETA: 0s - loss: 158.7623 - mean_squared_error: 160.9012\n",
            "Epoch 00450: saving model to gdrive/My Drive/training/cpbn_mix_pos500.ckpt\n",
            "26/26 [==============================] - 25s 950ms/step - loss: 158.7623 - mean_squared_error: 160.9012 - val_loss: 249.3465 - val_mean_squared_error: 260.7078\n",
            "Epoch 451/500\n",
            "26/26 [==============================] - ETA: 0s - loss: 164.2091 - mean_squared_error: 164.5974\n",
            "Epoch 00451: saving model to gdrive/My Drive/training/cpbn_mix_pos500.ckpt\n",
            "26/26 [==============================] - 25s 946ms/step - loss: 164.2091 - mean_squared_error: 164.5974 - val_loss: 270.5662 - val_mean_squared_error: 282.8685\n",
            "Epoch 452/500\n",
            "26/26 [==============================] - ETA: 0s - loss: 174.0086 - mean_squared_error: 163.3890\n",
            "Epoch 00452: saving model to gdrive/My Drive/training/cpbn_mix_pos500.ckpt\n",
            "26/26 [==============================] - 25s 949ms/step - loss: 174.0086 - mean_squared_error: 163.3890 - val_loss: 307.7018 - val_mean_squared_error: 328.0051\n",
            "Epoch 453/500\n",
            "26/26 [==============================] - ETA: 0s - loss: 147.4791 - mean_squared_error: 145.8742\n",
            "Epoch 00453: saving model to gdrive/My Drive/training/cpbn_mix_pos500.ckpt\n",
            "26/26 [==============================] - 25s 950ms/step - loss: 147.4791 - mean_squared_error: 145.8742 - val_loss: 322.0950 - val_mean_squared_error: 329.1659\n",
            "Epoch 454/500\n",
            "26/26 [==============================] - ETA: 0s - loss: 153.1275 - mean_squared_error: 154.4428\n",
            "Epoch 00454: saving model to gdrive/My Drive/training/cpbn_mix_pos500.ckpt\n",
            "26/26 [==============================] - 24s 942ms/step - loss: 153.1275 - mean_squared_error: 154.4428 - val_loss: 260.4854 - val_mean_squared_error: 273.3042\n",
            "Epoch 455/500\n",
            "26/26 [==============================] - ETA: 0s - loss: 160.8642 - mean_squared_error: 158.9069\n",
            "Epoch 00455: saving model to gdrive/My Drive/training/cpbn_mix_pos500.ckpt\n",
            "26/26 [==============================] - 25s 956ms/step - loss: 160.8642 - mean_squared_error: 158.9069 - val_loss: 283.0504 - val_mean_squared_error: 297.1667\n",
            "Epoch 456/500\n",
            "26/26 [==============================] - ETA: 0s - loss: 167.7433 - mean_squared_error: 170.1669\n",
            "Epoch 00456: saving model to gdrive/My Drive/training/cpbn_mix_pos500.ckpt\n",
            "26/26 [==============================] - 25s 944ms/step - loss: 167.7433 - mean_squared_error: 170.1669 - val_loss: 297.0312 - val_mean_squared_error: 310.3626\n",
            "Epoch 457/500\n",
            "26/26 [==============================] - ETA: 0s - loss: 158.0487 - mean_squared_error: 156.6338\n",
            "Epoch 00457: saving model to gdrive/My Drive/training/cpbn_mix_pos500.ckpt\n",
            "26/26 [==============================] - 25s 951ms/step - loss: 158.0487 - mean_squared_error: 156.6338 - val_loss: 235.9747 - val_mean_squared_error: 251.3463\n",
            "Epoch 458/500\n",
            "26/26 [==============================] - ETA: 0s - loss: 152.5524 - mean_squared_error: 152.7168\n",
            "Epoch 00458: saving model to gdrive/My Drive/training/cpbn_mix_pos500.ckpt\n",
            "26/26 [==============================] - 24s 941ms/step - loss: 152.5524 - mean_squared_error: 152.7168 - val_loss: 243.3458 - val_mean_squared_error: 258.8690\n",
            "Epoch 459/500\n",
            "26/26 [==============================] - ETA: 0s - loss: 139.1725 - mean_squared_error: 139.0876\n",
            "Epoch 00459: saving model to gdrive/My Drive/training/cpbn_mix_pos500.ckpt\n",
            "26/26 [==============================] - 25s 950ms/step - loss: 139.1725 - mean_squared_error: 139.0876 - val_loss: 299.1914 - val_mean_squared_error: 304.6737\n",
            "Epoch 460/500\n",
            "26/26 [==============================] - ETA: 0s - loss: 173.0771 - mean_squared_error: 172.9686\n",
            "Epoch 00460: saving model to gdrive/My Drive/training/cpbn_mix_pos500.ckpt\n",
            "26/26 [==============================] - 25s 943ms/step - loss: 173.0771 - mean_squared_error: 172.9686 - val_loss: 267.7280 - val_mean_squared_error: 280.0616\n",
            "Epoch 461/500\n",
            "26/26 [==============================] - ETA: 0s - loss: 150.1517 - mean_squared_error: 151.0673\n",
            "Epoch 00461: saving model to gdrive/My Drive/training/cpbn_mix_pos500.ckpt\n",
            "26/26 [==============================] - 25s 954ms/step - loss: 150.1517 - mean_squared_error: 151.0673 - val_loss: 297.3402 - val_mean_squared_error: 309.9610\n",
            "Epoch 462/500\n",
            "26/26 [==============================] - ETA: 0s - loss: 163.0949 - mean_squared_error: 157.8964\n",
            "Epoch 00462: saving model to gdrive/My Drive/training/cpbn_mix_pos500.ckpt\n",
            "26/26 [==============================] - 25s 971ms/step - loss: 163.0949 - mean_squared_error: 157.8964 - val_loss: 395.2864 - val_mean_squared_error: 418.4110\n",
            "Epoch 463/500\n",
            "26/26 [==============================] - ETA: 0s - loss: 157.2594 - mean_squared_error: 157.5196\n",
            "Epoch 00463: saving model to gdrive/My Drive/training/cpbn_mix_pos500.ckpt\n",
            "26/26 [==============================] - 25s 946ms/step - loss: 157.2594 - mean_squared_error: 157.5196 - val_loss: 275.6288 - val_mean_squared_error: 293.7052\n",
            "Epoch 464/500\n",
            "26/26 [==============================] - ETA: 0s - loss: 150.8231 - mean_squared_error: 151.1884\n",
            "Epoch 00464: saving model to gdrive/My Drive/training/cpbn_mix_pos500.ckpt\n",
            "26/26 [==============================] - 25s 957ms/step - loss: 150.8231 - mean_squared_error: 151.1884 - val_loss: 359.5471 - val_mean_squared_error: 354.1350\n",
            "Epoch 465/500\n",
            "26/26 [==============================] - ETA: 0s - loss: 165.1986 - mean_squared_error: 165.2094\n",
            "Epoch 00465: saving model to gdrive/My Drive/training/cpbn_mix_pos500.ckpt\n",
            "26/26 [==============================] - 25s 956ms/step - loss: 165.1986 - mean_squared_error: 165.2094 - val_loss: 335.6079 - val_mean_squared_error: 353.1530\n",
            "Epoch 466/500\n",
            "26/26 [==============================] - ETA: 0s - loss: 137.7846 - mean_squared_error: 138.0218\n",
            "Epoch 00466: saving model to gdrive/My Drive/training/cpbn_mix_pos500.ckpt\n",
            "26/26 [==============================] - 25s 954ms/step - loss: 137.7846 - mean_squared_error: 138.0218 - val_loss: 267.6291 - val_mean_squared_error: 282.2177\n",
            "Epoch 467/500\n",
            "26/26 [==============================] - ETA: 0s - loss: 138.6009 - mean_squared_error: 136.1721\n",
            "Epoch 00467: saving model to gdrive/My Drive/training/cpbn_mix_pos500.ckpt\n",
            "26/26 [==============================] - 25s 957ms/step - loss: 138.6009 - mean_squared_error: 136.1721 - val_loss: 378.0066 - val_mean_squared_error: 399.2529\n",
            "Epoch 468/500\n",
            "26/26 [==============================] - ETA: 0s - loss: 133.0662 - mean_squared_error: 129.7483\n",
            "Epoch 00468: saving model to gdrive/My Drive/training/cpbn_mix_pos500.ckpt\n",
            "26/26 [==============================] - 25s 954ms/step - loss: 133.0662 - mean_squared_error: 129.7483 - val_loss: 634.1104 - val_mean_squared_error: 652.8398\n",
            "Epoch 469/500\n",
            "26/26 [==============================] - ETA: 0s - loss: 143.7743 - mean_squared_error: 141.7001\n",
            "Epoch 00469: saving model to gdrive/My Drive/training/cpbn_mix_pos500.ckpt\n",
            "26/26 [==============================] - 25s 953ms/step - loss: 143.7743 - mean_squared_error: 141.7001 - val_loss: 346.2969 - val_mean_squared_error: 352.6180\n",
            "Epoch 470/500\n",
            "26/26 [==============================] - ETA: 0s - loss: 143.6857 - mean_squared_error: 142.3093\n",
            "Epoch 00470: saving model to gdrive/My Drive/training/cpbn_mix_pos500.ckpt\n",
            "26/26 [==============================] - 24s 936ms/step - loss: 143.6857 - mean_squared_error: 142.3093 - val_loss: 294.2446 - val_mean_squared_error: 296.3331\n",
            "Epoch 471/500\n",
            "26/26 [==============================] - ETA: 0s - loss: 154.0419 - mean_squared_error: 154.3881\n",
            "Epoch 00471: saving model to gdrive/My Drive/training/cpbn_mix_pos500.ckpt\n",
            "26/26 [==============================] - 24s 931ms/step - loss: 154.0419 - mean_squared_error: 154.3881 - val_loss: 319.6007 - val_mean_squared_error: 337.4927\n",
            "Epoch 472/500\n",
            "26/26 [==============================] - ETA: 0s - loss: 154.7228 - mean_squared_error: 155.8409\n",
            "Epoch 00472: saving model to gdrive/My Drive/training/cpbn_mix_pos500.ckpt\n",
            "26/26 [==============================] - 24s 934ms/step - loss: 154.7228 - mean_squared_error: 155.8409 - val_loss: 352.4016 - val_mean_squared_error: 371.9601\n",
            "Epoch 473/500\n",
            "26/26 [==============================] - ETA: 0s - loss: 136.6995 - mean_squared_error: 137.5984\n",
            "Epoch 00473: saving model to gdrive/My Drive/training/cpbn_mix_pos500.ckpt\n",
            "26/26 [==============================] - 24s 941ms/step - loss: 136.6995 - mean_squared_error: 137.5984 - val_loss: 488.2791 - val_mean_squared_error: 510.6227\n",
            "Epoch 474/500\n",
            "26/26 [==============================] - ETA: 0s - loss: 153.8053 - mean_squared_error: 156.5692\n",
            "Epoch 00474: saving model to gdrive/My Drive/training/cpbn_mix_pos500.ckpt\n",
            "26/26 [==============================] - 24s 941ms/step - loss: 153.8053 - mean_squared_error: 156.5692 - val_loss: 243.6594 - val_mean_squared_error: 258.4261\n",
            "Epoch 475/500\n",
            "26/26 [==============================] - ETA: 0s - loss: 162.8869 - mean_squared_error: 161.3376\n",
            "Epoch 00475: saving model to gdrive/My Drive/training/cpbn_mix_pos500.ckpt\n",
            "26/26 [==============================] - 24s 933ms/step - loss: 162.8869 - mean_squared_error: 161.3376 - val_loss: 286.9118 - val_mean_squared_error: 304.9199\n",
            "Epoch 476/500\n",
            "26/26 [==============================] - ETA: 0s - loss: 141.6057 - mean_squared_error: 143.1694\n",
            "Epoch 00476: saving model to gdrive/My Drive/training/cpbn_mix_pos500.ckpt\n",
            "26/26 [==============================] - 24s 938ms/step - loss: 141.6057 - mean_squared_error: 143.1694 - val_loss: 271.5753 - val_mean_squared_error: 286.1103\n",
            "Epoch 477/500\n",
            "26/26 [==============================] - ETA: 0s - loss: 132.4678 - mean_squared_error: 133.6797\n",
            "Epoch 00477: saving model to gdrive/My Drive/training/cpbn_mix_pos500.ckpt\n",
            "26/26 [==============================] - 24s 937ms/step - loss: 132.4678 - mean_squared_error: 133.6797 - val_loss: 334.1638 - val_mean_squared_error: 358.5871\n",
            "Epoch 478/500\n",
            "26/26 [==============================] - ETA: 0s - loss: 153.0698 - mean_squared_error: 154.2334\n",
            "Epoch 00478: saving model to gdrive/My Drive/training/cpbn_mix_pos500.ckpt\n",
            "26/26 [==============================] - 24s 935ms/step - loss: 153.0698 - mean_squared_error: 154.2334 - val_loss: 273.2580 - val_mean_squared_error: 290.5739\n",
            "Epoch 479/500\n",
            "26/26 [==============================] - ETA: 0s - loss: 144.2370 - mean_squared_error: 137.5331\n",
            "Epoch 00479: saving model to gdrive/My Drive/training/cpbn_mix_pos500.ckpt\n",
            "26/26 [==============================] - 25s 951ms/step - loss: 144.2370 - mean_squared_error: 137.5331 - val_loss: 292.2021 - val_mean_squared_error: 311.3748\n",
            "Epoch 480/500\n",
            "26/26 [==============================] - ETA: 0s - loss: 125.8041 - mean_squared_error: 126.5320\n",
            "Epoch 00480: saving model to gdrive/My Drive/training/cpbn_mix_pos500.ckpt\n",
            "26/26 [==============================] - 25s 943ms/step - loss: 125.8041 - mean_squared_error: 126.5320 - val_loss: 273.6353 - val_mean_squared_error: 293.1053\n",
            "Epoch 481/500\n",
            "26/26 [==============================] - ETA: 0s - loss: 128.9278 - mean_squared_error: 129.1080\n",
            "Epoch 00481: saving model to gdrive/My Drive/training/cpbn_mix_pos500.ckpt\n",
            "26/26 [==============================] - 25s 947ms/step - loss: 128.9278 - mean_squared_error: 129.1080 - val_loss: 312.2341 - val_mean_squared_error: 332.3187\n",
            "Epoch 482/500\n",
            "26/26 [==============================] - ETA: 0s - loss: 138.5482 - mean_squared_error: 139.6729\n",
            "Epoch 00482: saving model to gdrive/My Drive/training/cpbn_mix_pos500.ckpt\n",
            "26/26 [==============================] - 25s 948ms/step - loss: 138.5482 - mean_squared_error: 139.6729 - val_loss: 388.3124 - val_mean_squared_error: 409.8266\n",
            "Epoch 483/500\n",
            "26/26 [==============================] - ETA: 0s - loss: 130.0225 - mean_squared_error: 129.2282\n",
            "Epoch 00483: saving model to gdrive/My Drive/training/cpbn_mix_pos500.ckpt\n",
            "26/26 [==============================] - 25s 944ms/step - loss: 130.0225 - mean_squared_error: 129.2282 - val_loss: 361.3040 - val_mean_squared_error: 379.4296\n",
            "Epoch 484/500\n",
            "26/26 [==============================] - ETA: 0s - loss: 137.7548 - mean_squared_error: 139.0692\n",
            "Epoch 00484: saving model to gdrive/My Drive/training/cpbn_mix_pos500.ckpt\n",
            "26/26 [==============================] - 24s 935ms/step - loss: 137.7548 - mean_squared_error: 139.0692 - val_loss: 225.1458 - val_mean_squared_error: 238.4815\n",
            "Epoch 485/500\n",
            "26/26 [==============================] - ETA: 0s - loss: 138.8027 - mean_squared_error: 133.7336\n",
            "Epoch 00485: saving model to gdrive/My Drive/training/cpbn_mix_pos500.ckpt\n",
            "26/26 [==============================] - 25s 960ms/step - loss: 138.8027 - mean_squared_error: 133.7336 - val_loss: 399.8389 - val_mean_squared_error: 415.7512\n",
            "Epoch 486/500\n",
            "26/26 [==============================] - ETA: 0s - loss: 128.3664 - mean_squared_error: 127.6811\n",
            "Epoch 00486: saving model to gdrive/My Drive/training/cpbn_mix_pos500.ckpt\n",
            "26/26 [==============================] - 24s 942ms/step - loss: 128.3664 - mean_squared_error: 127.6811 - val_loss: 620.9330 - val_mean_squared_error: 616.2828\n",
            "Epoch 487/500\n",
            "26/26 [==============================] - ETA: 0s - loss: 175.8382 - mean_squared_error: 162.7218\n",
            "Epoch 00487: saving model to gdrive/My Drive/training/cpbn_mix_pos500.ckpt\n",
            "26/26 [==============================] - 25s 951ms/step - loss: 175.8382 - mean_squared_error: 162.7218 - val_loss: 351.4202 - val_mean_squared_error: 375.7088\n",
            "Epoch 488/500\n",
            "26/26 [==============================] - ETA: 0s - loss: 112.8262 - mean_squared_error: 112.3948\n",
            "Epoch 00488: saving model to gdrive/My Drive/training/cpbn_mix_pos500.ckpt\n",
            "26/26 [==============================] - 25s 951ms/step - loss: 112.8262 - mean_squared_error: 112.3948 - val_loss: 277.3753 - val_mean_squared_error: 299.4504\n",
            "Epoch 489/500\n",
            "26/26 [==============================] - ETA: 0s - loss: 140.6629 - mean_squared_error: 142.0439\n",
            "Epoch 00489: saving model to gdrive/My Drive/training/cpbn_mix_pos500.ckpt\n",
            "26/26 [==============================] - 25s 943ms/step - loss: 140.6629 - mean_squared_error: 142.0439 - val_loss: 277.1626 - val_mean_squared_error: 289.7689\n",
            "Epoch 490/500\n",
            "26/26 [==============================] - ETA: 0s - loss: 132.6839 - mean_squared_error: 131.1644\n",
            "Epoch 00490: saving model to gdrive/My Drive/training/cpbn_mix_pos500.ckpt\n",
            "26/26 [==============================] - 25s 948ms/step - loss: 132.6839 - mean_squared_error: 131.1644 - val_loss: 301.1300 - val_mean_squared_error: 319.9153\n",
            "Epoch 491/500\n",
            "26/26 [==============================] - ETA: 0s - loss: 122.5341 - mean_squared_error: 119.7260\n",
            "Epoch 00491: saving model to gdrive/My Drive/training/cpbn_mix_pos500.ckpt\n",
            "26/26 [==============================] - 25s 945ms/step - loss: 122.5341 - mean_squared_error: 119.7260 - val_loss: 274.4301 - val_mean_squared_error: 285.4377\n",
            "Epoch 492/500\n",
            "26/26 [==============================] - ETA: 0s - loss: 141.4998 - mean_squared_error: 138.9016\n",
            "Epoch 00492: saving model to gdrive/My Drive/training/cpbn_mix_pos500.ckpt\n",
            "26/26 [==============================] - 24s 935ms/step - loss: 141.4998 - mean_squared_error: 138.9016 - val_loss: 406.5369 - val_mean_squared_error: 402.3699\n",
            "Epoch 493/500\n",
            "26/26 [==============================] - ETA: 0s - loss: 148.4946 - mean_squared_error: 146.4575\n",
            "Epoch 00493: saving model to gdrive/My Drive/training/cpbn_mix_pos500.ckpt\n",
            "26/26 [==============================] - 24s 941ms/step - loss: 148.4946 - mean_squared_error: 146.4575 - val_loss: 425.1089 - val_mean_squared_error: 420.8681\n",
            "Epoch 494/500\n",
            "26/26 [==============================] - ETA: 0s - loss: 140.6753 - mean_squared_error: 142.0039\n",
            "Epoch 00494: saving model to gdrive/My Drive/training/cpbn_mix_pos500.ckpt\n",
            "26/26 [==============================] - 25s 961ms/step - loss: 140.6753 - mean_squared_error: 142.0039 - val_loss: 289.7095 - val_mean_squared_error: 309.7576\n",
            "Epoch 495/500\n",
            "26/26 [==============================] - ETA: 0s - loss: 122.6265 - mean_squared_error: 123.7443\n",
            "Epoch 00495: saving model to gdrive/My Drive/training/cpbn_mix_pos500.ckpt\n",
            "26/26 [==============================] - 25s 946ms/step - loss: 122.6265 - mean_squared_error: 123.7443 - val_loss: 257.3329 - val_mean_squared_error: 271.8021\n",
            "Epoch 496/500\n",
            "26/26 [==============================] - ETA: 0s - loss: 143.6557 - mean_squared_error: 145.6908\n",
            "Epoch 00496: saving model to gdrive/My Drive/training/cpbn_mix_pos500.ckpt\n",
            "26/26 [==============================] - 25s 966ms/step - loss: 143.6557 - mean_squared_error: 145.6908 - val_loss: 238.7389 - val_mean_squared_error: 254.3334\n",
            "Epoch 497/500\n",
            "26/26 [==============================] - ETA: 0s - loss: 145.8327 - mean_squared_error: 146.1854\n",
            "Epoch 00497: saving model to gdrive/My Drive/training/cpbn_mix_pos500.ckpt\n",
            "26/26 [==============================] - 25s 962ms/step - loss: 145.8327 - mean_squared_error: 146.1854 - val_loss: 341.5936 - val_mean_squared_error: 349.4346\n",
            "Epoch 498/500\n",
            "26/26 [==============================] - ETA: 0s - loss: 114.7505 - mean_squared_error: 111.0373\n",
            "Epoch 00498: saving model to gdrive/My Drive/training/cpbn_mix_pos500.ckpt\n",
            "26/26 [==============================] - 25s 953ms/step - loss: 114.7505 - mean_squared_error: 111.0373 - val_loss: 424.9518 - val_mean_squared_error: 447.4769\n",
            "Epoch 499/500\n",
            "26/26 [==============================] - ETA: 0s - loss: 140.7661 - mean_squared_error: 140.0040\n",
            "Epoch 00499: saving model to gdrive/My Drive/training/cpbn_mix_pos500.ckpt\n",
            "26/26 [==============================] - 25s 954ms/step - loss: 140.7661 - mean_squared_error: 140.0040 - val_loss: 260.6055 - val_mean_squared_error: 279.5025\n",
            "Epoch 500/500\n",
            "26/26 [==============================] - ETA: 0s - loss: 126.6075 - mean_squared_error: 128.6577\n",
            "Epoch 00500: saving model to gdrive/My Drive/training/cpbn_mix_pos500.ckpt\n",
            "26/26 [==============================] - 25s 951ms/step - loss: 126.6075 - mean_squared_error: 128.6577 - val_loss: 230.2127 - val_mean_squared_error: 245.2628\n"
          ],
          "name": "stdout"
        }
      ]
    },
    {
      "cell_type": "code",
      "metadata": {
        "id": "-vY-Y2LBytH2",
        "colab_type": "code",
        "outputId": "e0f09a29-1b1f-43a0-fe4b-43aa052c5d13",
        "colab": {
          "base_uri": "https://localhost:8080/",
          "height": 296
        }
      },
      "source": [
        "\n",
        "plt.plot(history.history['loss'],label='mse_train')\n",
        "plt.plot(history.history['val_loss'],label='mse_val')\n",
        "plt.xlabel('Epoch')\n",
        "plt.ylabel('Loss')\n",
        "# plt.ylim(0,15000)\n",
        "plt.legend(loc='upper right')"
      ],
      "execution_count": 0,
      "outputs": [
        {
          "output_type": "execute_result",
          "data": {
            "text/plain": [
              "<matplotlib.legend.Legend at 0x7f1f02b569b0>"
            ]
          },
          "metadata": {
            "tags": []
          },
          "execution_count": 24
        },
        {
          "output_type": "display_data",
          "data": {
            "image/png": "[encoded data removed]",
            "text/plain": [
              "<Figure size 432x288 with 1 Axes>"
            ]
          },
          "metadata": {
            "tags": [],
            "needs_background": "light"
          }
        }
      ]
    },
    {
      "cell_type": "code",
      "metadata": {
        "id": "Sz3S_tgF8weY",
        "colab_type": "code",
        "outputId": "375b3692-5303-494d-fe52-18e12af1c1bb",
        "colab": {
          "base_uri": "https://localhost:8080/",
          "height": 34
        }
      },
      "source": [
        "print(testY[2])"
      ],
      "execution_count": 0,
      "outputs": [
        {
          "output_type": "stream",
          "text": [
            "94.0\n"
          ],
          "name": "stdout"
        }
      ]
    },
    {
      "cell_type": "code",
      "metadata": {
        "id": "Drr2bgO31ajg",
        "colab_type": "code",
        "outputId": "46a3a2fb-4029-4807-9529-9c610814e6a1",
        "colab": {
          "base_uri": "https://localhost:8080/",
          "height": 34
        }
      },
      "source": [
        "y_pred=model.predict(testX[2].reshape(1,200,200,1))\n",
        "print(y_pred)"
      ],
      "execution_count": 0,
      "outputs": [
        {
          "output_type": "stream",
          "text": [
            "[[96.36484]]\n"
          ],
          "name": "stdout"
        }
      ]
    },
    {
      "cell_type": "code",
      "metadata": {
        "id": "clGNuX2nmg9C",
        "colab_type": "code",
        "colab": {}
      },
      "source": [
        "!mkdir -p save_model"
      ],
      "execution_count": 0,
      "outputs": []
    },
    {
      "cell_type": "code",
      "metadata": {
        "id": "kdH5ALJdDpe-",
        "colab_type": "code",
        "colab": {}
      },
      "source": [
        "model.save('gdrive/My Drive/save_model/posbnmix_model_500.h5')"
      ],
      "execution_count": 0,
      "outputs": []
    },
    {
      "cell_type": "code",
      "metadata": {
        "id": "oCOLWBaum_9g",
        "colab_type": "code",
        "colab": {}
      },
      "source": [
        "new_model=load_model('gdrive/My Drive/save_model/posbnmix_model_500.h5')"
      ],
      "execution_count": 0,
      "outputs": []
    },
    {
      "cell_type": "code",
      "metadata": {
        "id": "7cECixLynUQA",
        "colab_type": "code",
        "outputId": "fe4b6d1f-49f4-4e6c-fc49-1368851600d0",
        "colab": {
          "base_uri": "https://localhost:8080/",
          "height": 595
        }
      },
      "source": [
        "new_model.summary()"
      ],
      "execution_count": 0,
      "outputs": [
        {
          "output_type": "stream",
          "text": [
            "Model: \"sequential\"\n",
            "_________________________________________________________________\n",
            "Layer (type)                 Output Shape              Param #   \n",
            "=================================================================\n",
            "conv2d (Conv2D)              (None, 200, 200, 16)      1952      \n",
            "_________________________________________________________________\n",
            "max_pooling2d (MaxPooling2D) (None, 100, 100, 16)      0         \n",
            "_________________________________________________________________\n",
            "batch_normalization (BatchNo (None, 100, 100, 16)      400       \n",
            "_________________________________________________________________\n",
            "conv2d_1 (Conv2D)            (None, 100, 100, 32)      25120     \n",
            "_________________________________________________________________\n",
            "max_pooling2d_1 (MaxPooling2 (None, 50, 50, 32)        0         \n",
            "_________________________________________________________________\n",
            "batch_normalization_1 (Batch (None, 50, 50, 32)        200       \n",
            "_________________________________________________________________\n",
            "conv2d_2 (Conv2D)            (None, 50, 50, 64)        51264     \n",
            "_________________________________________________________________\n",
            "max_pooling2d_2 (MaxPooling2 (None, 25, 25, 64)        0         \n",
            "_________________________________________________________________\n",
            "batch_normalization_2 (Batch (None, 25, 25, 64)        100       \n",
            "_________________________________________________________________\n",
            "flatten (Flatten)            (None, 40000)             0         \n",
            "_________________________________________________________________\n",
            "dense (Dense)                (None, 1000)              40001000  \n",
            "_________________________________________________________________\n",
            "dense_1 (Dense)              (None, 100)               100100    \n",
            "_________________________________________________________________\n",
            "dense_2 (Dense)              (None, 1)                 101       \n",
            "=================================================================\n",
            "Total params: 40,180,237\n",
            "Trainable params: 40,179,887\n",
            "Non-trainable params: 350\n",
            "_________________________________________________________________\n"
          ],
          "name": "stdout"
        }
      ]
    },
    {
      "cell_type": "code",
      "metadata": {
        "id": "IFSY-msk_GJu",
        "colab_type": "code",
        "outputId": "c179cafe-2af4-44fe-c666-669305cf1f6d",
        "colab": {
          "base_uri": "https://localhost:8080/",
          "height": 51
        }
      },
      "source": [
        "new_model.evaluate(x=X_rest,y=Y_rest)"
      ],
      "execution_count": 0,
      "outputs": [
        {
          "output_type": "stream",
          "text": [
            "40/40 [==============================] - 2s 62ms/step - loss: 263.4232 - mean_squared_error: 263.5377\n"
          ],
          "name": "stdout"
        },
        {
          "output_type": "execute_result",
          "data": {
            "text/plain": [
              "[263.4231872558594, 263.53765869140625]"
            ]
          },
          "metadata": {
            "tags": []
          },
          "execution_count": 28
        }
      ]
    },
    {
      "cell_type": "code",
      "metadata": {
        "id": "abwXdN0kiKpq",
        "colab_type": "code",
        "outputId": "7da7b725-1002-4078-fc91-ac0458e6a18c",
        "colab": {
          "base_uri": "https://localhost:8080/",
          "height": 51
        }
      },
      "source": [
        "new_model.evaluate(x=testX,y=testY)\n"
      ],
      "execution_count": 0,
      "outputs": [
        {
          "output_type": "stream",
          "text": [
            "8/8 [==============================] - 0s 56ms/step - loss: 376.4387 - mean_squared_error: 376.4387\n"
          ],
          "name": "stdout"
        },
        {
          "output_type": "execute_result",
          "data": {
            "text/plain": [
              "[376.438720703125, 376.438720703125]"
            ]
          },
          "metadata": {
            "tags": []
          },
          "execution_count": 32
        }
      ]
    },
    {
      "cell_type": "code",
      "metadata": {
        "id": "EfWHlJLFfJW1",
        "colab_type": "code",
        "colab": {}
      },
      "source": [
        "predicted= new_model.predict(X_rest)"
      ],
      "execution_count": 0,
      "outputs": []
    },
    {
      "cell_type": "code",
      "metadata": {
        "id": "dvbb236PiaJh",
        "colab_type": "code",
        "outputId": "46f65fcb-e6b2-4fe0-a4b0-3d8803d0bd6c",
        "colab": {
          "base_uri": "https://localhost:8080/",
          "height": 296
        }
      },
      "source": [
        "plt.scatter(range(len(X_rest)),Y_rest,label='target_value')\n",
        "plt.scatter(range(len(X_rest)),predicted,label='predicted_value')\n",
        "plt.xlabel('Sample number')\n",
        "plt.ylabel('Dimension in cm')\n",
        "plt.legend(loc='upper right')"
      ],
      "execution_count": 0,
      "outputs": [
        {
          "output_type": "execute_result",
          "data": {
            "text/plain": [
              "<matplotlib.legend.Legend at 0x7f1ee413af98>"
            ]
          },
          "metadata": {
            "tags": []
          },
          "execution_count": 34
        },
        {
          "output_type": "display_data",
          "data": {
            "image/png": "[encoded data removed]",
            "text/plain": [
              "<Figure size 432x288 with 1 Axes>"
            ]
          },
          "metadata": {
            "tags": [],
            "needs_background": "light"
          }
        }
      ]
    },
    {
      "cell_type": "code",
      "metadata": {
        "id": "dv8Fbh_clZNQ",
        "colab_type": "code",
        "outputId": "2b106500-d433-4271-b66e-35f803e60440",
        "colab": {
          "base_uri": "https://localhost:8080/",
          "height": 187
        }
      },
      "source": [
        "y_pred_10=new_model.predict(X_rest[10].reshape(1,200,200,1))\n",
        "y_pred_97=new_model.predict(X_rest[97].reshape(1,200,200,1))\n",
        "y_pred_1000=new_model.predict(X_rest[1000].reshape(1,200,200,1))\n",
        "y_pred_579=new_model.predict(X_rest[579].reshape(1,200,200,1))\n",
        "y_pred_477=new_model.predict(X_rest[477].reshape(1,200,200,1))\n",
        "y_pred_919=new_model.predict(X_rest[919].reshape(1,200,200,1))\n",
        "y_pred_176=new_model.predict(X_rest[176].reshape(1,200,200,1))\n",
        "y_pred_213=new_model.predict(X_rest[213].reshape(1,200,200,1))\n",
        "y_pred_845=new_model.predict(X_rest[845].reshape(1,200,200,1))\n",
        "y_pred_623=new_model.predict(X_rest[623].reshape(1,200,200,1))\n",
        "print(Y_rest[10],y_pred_10)\n",
        "print(Y_rest[97],y_pred_97)\n",
        "print(Y_rest[1000],y_pred_1000)\n",
        "print(Y_rest[579],y_pred_579)\n",
        "print(Y_rest[477],y_pred_477)\n",
        "print(Y_rest[919],y_pred_919)\n",
        "print(Y_rest[176],y_pred_176)\n",
        "print(Y_rest[213],y_pred_213)\n",
        "print(Y_rest[845],y_pred_845)\n",
        "print(Y_rest[623],y_pred_623)"
      ],
      "execution_count": 0,
      "outputs": [
        {
          "output_type": "stream",
          "text": [
            "51.0 [[59.592648]]\n",
            "76.0 [[106.46347]]\n",
            "69.0 [[69.52955]]\n",
            "49.0 [[47.251884]]\n",
            "159.0 [[212.81496]]\n",
            "95.0 [[94.50242]]\n",
            "98.0 [[94.21628]]\n",
            "177.0 [[175.33412]]\n",
            "105.0 [[107.58286]]\n",
            "124.0 [[128.81123]]\n"
          ],
          "name": "stdout"
        }
      ]
    },
    {
      "cell_type": "code",
      "metadata": {
        "id": "XxyIJPyiiSZA",
        "colab_type": "code",
        "colab": {}
      },
      "source": [
        "predicted=new_model.predict(testX)"
      ],
      "execution_count": 0,
      "outputs": []
    },
    {
      "cell_type": "code",
      "metadata": {
        "id": "Ac0G8YpxfXt_",
        "colab_type": "code",
        "outputId": "ea2ca964-b694-4b45-8483-427858987080",
        "colab": {
          "base_uri": "https://localhost:8080/",
          "height": 296
        }
      },
      "source": [
        "plt.scatter(range(len(testX)),testY,label='target_value')\n",
        "plt.scatter(range(len(testX)),predicted,label='predicted_value')\n",
        "plt.xlabel('Sample number')\n",
        "plt.ylabel('Dimension in cm')\n",
        "plt.legend(loc='upper right')"
      ],
      "execution_count": 0,
      "outputs": [
        {
          "output_type": "execute_result",
          "data": {
            "text/plain": [
              "<matplotlib.legend.Legend at 0x7f1f002e7fd0>"
            ]
          },
          "metadata": {
            "tags": []
          },
          "execution_count": 31
        },
        {
          "output_type": "display_data",
          "data": {
            "image/png": "[encoded data removed]",
            "text/plain": [
              "<Figure size 432x288 with 1 Axes>"
            ]
          },
          "metadata": {
            "tags": [],
            "needs_background": "light"
          }
        }
      ]
    },
    {
      "cell_type": "code",
      "metadata": {
        "id": "Dpf23fLXr0y9",
        "colab_type": "code",
        "outputId": "50eca2f1-c969-4c36-bc3d-193572b06bea",
        "colab": {
          "base_uri": "https://localhost:8080/",
          "height": 34
        }
      },
      "source": [
        "y_pred=new_model.predict(testX[2].reshape(1,200,200,1))\n",
        "print(y_pred)"
      ],
      "execution_count": 0,
      "outputs": [
        {
          "output_type": "stream",
          "text": [
            "[[120.06555]]\n"
          ],
          "name": "stdout"
        }
      ]
    },
    {
      "cell_type": "code",
      "metadata": {
        "id": "Iv5VrKFI__Nb",
        "colab_type": "code",
        "colab": {}
      },
      "source": [
        "new_model2=load_model('gdrive/My Drive/save_model/positive_model_500.h5')\n",
        "new_model2.summary()"
      ],
      "execution_count": 0,
      "outputs": []
    },
    {
      "cell_type": "code",
      "metadata": {
        "id": "ZdeiLlG1AVo3",
        "colab_type": "code",
        "outputId": "ae114b8e-c5be-40aa-efa4-d1b7a4c26a28",
        "colab": {
          "base_uri": "https://localhost:8080/",
          "height": 51
        }
      },
      "source": [
        "new_model2.evaluate(x=testX,y=testY)"
      ],
      "execution_count": 0,
      "outputs": [
        {
          "output_type": "stream",
          "text": [
            "8/8 [==============================] - 0s 54ms/step - loss: 291.6156 - mean_squared_error: 291.6156\n"
          ],
          "name": "stdout"
        },
        {
          "output_type": "execute_result",
          "data": {
            "text/plain": [
              "[291.6156005859375, 291.6156005859375]"
            ]
          },
          "metadata": {
            "tags": []
          },
          "execution_count": 17
        }
      ]
    }
  ]
}